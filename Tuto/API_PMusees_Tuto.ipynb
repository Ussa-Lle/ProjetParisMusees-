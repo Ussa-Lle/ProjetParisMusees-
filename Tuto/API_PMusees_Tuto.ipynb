{
 "cells": [
  {
   "cell_type": "markdown",
   "metadata": {},
   "source": [
    "<h1>  API ParisMusees - Tutoriel Python</h1>\n"
   ]
  },
  {
   "cell_type": "markdown",
   "metadata": {},
   "source": [
    "## Prérequis\n",
    "* Connaissance de notions basiques de programmation en Python "
   ]
  },
  {
   "cell_type": "markdown",
   "metadata": {},
   "source": [
    "## Bibliothèques \n",
    "\n",
    "* [Pandas](https://pandas.pydata.org/) \n",
    "* [requests](https://requests.readthedocs.io/en/master/) \n"
   ]
  },
  {
   "cell_type": "code",
   "execution_count": 1,
   "metadata": {
    "ExecuteTime": {
     "end_time": "2020-05-24T19:25:11.024805Z",
     "start_time": "2020-05-24T19:24:44.115592Z"
    }
   },
   "outputs": [],
   "source": [
    "import json\n",
    "import requests\n",
    "import pandas as pd"
   ]
  },
  {
   "cell_type": "code",
   "execution_count": 2,
   "metadata": {
    "ExecuteTime": {
     "end_time": "2020-05-24T19:25:12.886791Z",
     "start_time": "2020-05-24T19:25:11.028764Z"
    }
   },
   "outputs": [],
   "source": [
    "%%capture\n",
    "%run Queries.ipynb # le fichier qui contient les requêtes "
   ]
  },
  {
   "cell_type": "markdown",
   "metadata": {},
   "source": [
    "### Récupération d'une réponse sous forme JSON  et exploration de celle-ci"
   ]
  },
  {
   "cell_type": "markdown",
   "metadata": {},
   "source": [
    "#### Chercher 'montagne' dans les titres des oeuvres en utilisant la requete \"search_query\""
   ]
  },
  {
   "cell_type": "code",
   "execution_count": 3,
   "metadata": {
    "ExecuteTime": {
     "end_time": "2020-05-24T19:25:32.380801Z",
     "start_time": "2020-05-24T19:25:12.891778Z"
    }
   },
   "outputs": [],
   "source": [
    "query =  search_query # cette requete contient le mot 'montagne'\n",
    "url = 'http://apicollections.parismusees.paris.fr/graphql'\n",
    "header = { 'auth-token':'02a60ca6-e0d2-4c32-a2fe-9cdf4fb2186d'} #Vous pouver créer une sur votre compte sur http://apicollections.parismusees.paris.fr/\n",
    "r = requests.post(url=url, headers=header, json={ 'query' : query })\n",
    "json_data = json.loads(r.text)"
   ]
  },
  {
   "cell_type": "code",
   "execution_count": 4,
   "metadata": {
    "ExecuteTime": {
     "end_time": "2020-05-24T19:25:32.394584Z",
     "start_time": "2020-05-24T19:25:32.382582Z"
    }
   },
   "outputs": [
    {
     "data": {
      "text/plain": [
       "dict_keys(['nodeQuery'])"
      ]
     },
     "execution_count": 4,
     "metadata": {},
     "output_type": "execute_result"
    }
   ],
   "source": [
    "json_data['data'].keys() # une bonne pratique c'est de voir tjrs les clées de la réponse en format JSON "
   ]
  },
  {
   "cell_type": "code",
   "execution_count": 5,
   "metadata": {
    "ExecuteTime": {
     "end_time": "2020-05-24T19:25:32.568865Z",
     "start_time": "2020-05-24T19:25:32.396579Z"
    }
   },
   "outputs": [
    {
     "data": {
      "text/plain": [
       "dict_keys(['count', 'entities'])"
      ]
     },
     "execution_count": 5,
     "metadata": {},
     "output_type": "execute_result"
    }
   ],
   "source": [
    "json_data['data']['nodeQuery'].keys()"
   ]
  },
  {
   "cell_type": "code",
   "execution_count": 6,
   "metadata": {
    "ExecuteTime": {
     "end_time": "2020-05-24T19:25:32.709391Z",
     "start_time": "2020-05-24T19:25:32.570827Z"
    }
   },
   "outputs": [
    {
     "data": {
      "text/plain": [
       "'Le Chemin par-dessus la montagne (Bartsch 32)'"
      ]
     },
     "execution_count": 6,
     "metadata": {},
     "output_type": "execute_result"
    }
   ],
   "source": [
    "json_data['data']['nodeQuery']['entities'][4]['entityLabel'] # Récupérer le 5ieme item de notre réponse ou il y a plusiers titres"
   ]
  },
  {
   "cell_type": "markdown",
   "metadata": {},
   "source": [
    "#### Récupérer tous les musées "
   ]
  },
  {
   "cell_type": "code",
   "execution_count": 21,
   "metadata": {
    "ExecuteTime": {
     "end_time": "2020-05-24T19:26:25.453356Z",
     "start_time": "2020-05-24T19:26:24.620584Z"
    }
   },
   "outputs": [
    {
     "data": {
      "text/plain": [
       "[{'entityLabel': 'Maison de Balzac',\n",
       "  'entityType': 'taxonomy_term',\n",
       "  'fieldLrefAdlib': 1,\n",
       "  'fieldMuseeCode': 'BAL',\n",
       "  'fieldMuseeLogo': {'url': 'https://parismuseescollections.paris.fr/sites/default/files/filefield_paths/logo_musee_balzac.png'},\n",
       "  'fieldMuseeTitreCourt': 'Maison de Balzac',\n",
       "  'fieldAdresse': {'countryCode': 'FR',\n",
       "   'locality': 'Paris',\n",
       "   'postalCode': '75016',\n",
       "   'addressLine1': '47, rue Raynouard',\n",
       "   'addressLine2': ''}},\n",
       " {'entityLabel': 'Musée Bourdelle',\n",
       "  'entityType': 'taxonomy_term',\n",
       "  'fieldLrefAdlib': 2,\n",
       "  'fieldMuseeCode': 'BOU',\n",
       "  'fieldMuseeLogo': {'url': 'https://parismuseescollections.paris.fr/sites/default/files/images/musee/cj-court_bourdelle.png'},\n",
       "  'fieldMuseeTitreCourt': 'Musée Bourdelle',\n",
       "  'fieldAdresse': {'countryCode': 'FR',\n",
       "   'locality': 'Paris',\n",
       "   'postalCode': '75015',\n",
       "   'addressLine1': '18, rue Antoine Bourdelle',\n",
       "   'addressLine2': ''}},\n",
       " {'entityLabel': 'Musée Carnavalet, Histoire de Paris',\n",
       "  'entityType': 'taxonomy_term',\n",
       "  'fieldLrefAdlib': 3,\n",
       "  'fieldMuseeCode': 'CAR',\n",
       "  'fieldMuseeLogo': {'url': 'https://parismuseescollections.paris.fr/sites/default/files/images/musee/cj-court_carnavalet.png'},\n",
       "  'fieldMuseeTitreCourt': 'Musée Carnavalet',\n",
       "  'fieldAdresse': {'countryCode': 'FR',\n",
       "   'locality': 'Paris',\n",
       "   'postalCode': '75003',\n",
       "   'addressLine1': '16, rue des Francs-Bourgeois',\n",
       "   'addressLine2': None}}]"
      ]
     },
     "execution_count": 21,
     "metadata": {},
     "output_type": "execute_result"
    }
   ],
   "source": [
    "r = requests.post(url=url, headers=header, json={ 'query' : query_1 }) # consulter query_1 dans le fichier Queries.ipynb \n",
    "json_data_musees = json.loads(r.text)\n",
    "json_data_musees['data']['taxonomyTermQuery']['entities'][:3] # On limite les résultats en 3 pour ne pas afficher les informations de tous les musées "
   ]
  },
  {
   "cell_type": "markdown",
   "metadata": {
    "ExecuteTime": {
     "end_time": "2020-05-22T10:35:24.769697Z",
     "start_time": "2020-05-22T10:35:24.743767Z"
    }
   },
   "source": [
    "### De JSON à une DataFrame (Format tabulaire)"
   ]
  },
  {
   "cell_type": "code",
   "execution_count": 8,
   "metadata": {
    "ExecuteTime": {
     "end_time": "2020-05-24T19:25:33.470994Z",
     "start_time": "2020-05-24T19:25:33.289745Z"
    }
   },
   "outputs": [
    {
     "data": {
      "text/html": [
       "<div>\n",
       "<style scoped>\n",
       "    .dataframe tbody tr th:only-of-type {\n",
       "        vertical-align: middle;\n",
       "    }\n",
       "\n",
       "    .dataframe tbody tr th {\n",
       "        vertical-align: top;\n",
       "    }\n",
       "\n",
       "    .dataframe thead th {\n",
       "        text-align: right;\n",
       "    }\n",
       "</style>\n",
       "<table border=\"1\" class=\"dataframe\">\n",
       "  <thead>\n",
       "    <tr style=\"text-align: right;\">\n",
       "      <th></th>\n",
       "      <th>entityLabel</th>\n",
       "      <th>entityType</th>\n",
       "      <th>fieldLrefAdlib</th>\n",
       "      <th>fieldMuseeCode</th>\n",
       "      <th>fieldMuseeLogo</th>\n",
       "      <th>fieldMuseeTitreCourt</th>\n",
       "      <th>fieldAdresse</th>\n",
       "    </tr>\n",
       "  </thead>\n",
       "  <tbody>\n",
       "    <tr>\n",
       "      <th>0</th>\n",
       "      <td>Maison de Balzac</td>\n",
       "      <td>taxonomy_term</td>\n",
       "      <td>1</td>\n",
       "      <td>BAL</td>\n",
       "      <td>{'url': 'https://parismuseescollections.paris....</td>\n",
       "      <td>Maison de Balzac</td>\n",
       "      <td>{'countryCode': 'FR', 'locality': 'Paris', 'po...</td>\n",
       "    </tr>\n",
       "    <tr>\n",
       "      <th>1</th>\n",
       "      <td>Musée Bourdelle</td>\n",
       "      <td>taxonomy_term</td>\n",
       "      <td>2</td>\n",
       "      <td>BOU</td>\n",
       "      <td>{'url': 'https://parismuseescollections.paris....</td>\n",
       "      <td>Musée Bourdelle</td>\n",
       "      <td>{'countryCode': 'FR', 'locality': 'Paris', 'po...</td>\n",
       "    </tr>\n",
       "    <tr>\n",
       "      <th>2</th>\n",
       "      <td>Musée Carnavalet, Histoire de Paris</td>\n",
       "      <td>taxonomy_term</td>\n",
       "      <td>3</td>\n",
       "      <td>CAR</td>\n",
       "      <td>{'url': 'https://parismuseescollections.paris....</td>\n",
       "      <td>Musée Carnavalet</td>\n",
       "      <td>{'countryCode': 'FR', 'locality': 'Paris', 'po...</td>\n",
       "    </tr>\n",
       "    <tr>\n",
       "      <th>3</th>\n",
       "      <td>Musée Cernuschi, musée des Arts de l’Asie de l...</td>\n",
       "      <td>taxonomy_term</td>\n",
       "      <td>4</td>\n",
       "      <td>CER</td>\n",
       "      <td>{'url': 'https://parismuseescollections.paris....</td>\n",
       "      <td>Musée Cernuschi</td>\n",
       "      <td>{'countryCode': 'FR', 'locality': 'Paris', 'po...</td>\n",
       "    </tr>\n",
       "    <tr>\n",
       "      <th>4</th>\n",
       "      <td>Musée Cognacq-Jay, le goût du XVIIIe</td>\n",
       "      <td>taxonomy_term</td>\n",
       "      <td>5</td>\n",
       "      <td>COG</td>\n",
       "      <td>{'url': 'https://parismuseescollections.paris....</td>\n",
       "      <td>Musée Cognacq-Jay</td>\n",
       "      <td>{'countryCode': 'FR', 'locality': 'Paris', 'po...</td>\n",
       "    </tr>\n",
       "    <tr>\n",
       "      <th>5</th>\n",
       "      <td>Palais Galliera, musée de la Mode de la Ville ...</td>\n",
       "      <td>taxonomy_term</td>\n",
       "      <td>9</td>\n",
       "      <td>GAL</td>\n",
       "      <td>{'url': 'https://parismuseescollections.paris....</td>\n",
       "      <td>Palais Galliera</td>\n",
       "      <td>{'countryCode': 'FR', 'locality': 'Paris', 'po...</td>\n",
       "    </tr>\n",
       "    <tr>\n",
       "      <th>6</th>\n",
       "      <td>Musée d’Art moderne de Paris</td>\n",
       "      <td>taxonomy_term</td>\n",
       "      <td>10</td>\n",
       "      <td>MAM</td>\n",
       "      <td>{'url': 'https://parismuseescollections.paris....</td>\n",
       "      <td>Musée d’Art moderne</td>\n",
       "      <td>{'countryCode': 'FR', 'locality': 'Paris', 'po...</td>\n",
       "    </tr>\n",
       "    <tr>\n",
       "      <th>7</th>\n",
       "      <td>Musée de la Libération de Paris - musée du Gén...</td>\n",
       "      <td>taxonomy_term</td>\n",
       "      <td>11</td>\n",
       "      <td>LEC</td>\n",
       "      <td>{'url': 'https://parismuseescollections.paris....</td>\n",
       "      <td>Musée Jean Moulin</td>\n",
       "      <td>{'countryCode': 'FR', 'locality': 'Paris', 'po...</td>\n",
       "    </tr>\n",
       "    <tr>\n",
       "      <th>8</th>\n",
       "      <td>Maison de Victor Hugo - Hauteville House</td>\n",
       "      <td>taxonomy_term</td>\n",
       "      <td>12</td>\n",
       "      <td>MVH</td>\n",
       "      <td>{'url': 'https://parismuseescollections.paris....</td>\n",
       "      <td>Maison de Victor Hugo</td>\n",
       "      <td>{'countryCode': 'FR', 'locality': 'Paris', 'po...</td>\n",
       "    </tr>\n",
       "    <tr>\n",
       "      <th>9</th>\n",
       "      <td>Musée de la Vie romantique</td>\n",
       "      <td>taxonomy_term</td>\n",
       "      <td>13</td>\n",
       "      <td>MVR</td>\n",
       "      <td>{'url': 'https://parismuseescollections.paris....</td>\n",
       "      <td>Musée de la Vie romantique</td>\n",
       "      <td>{'countryCode': 'FR', 'locality': 'Paris', 'po...</td>\n",
       "    </tr>\n",
       "  </tbody>\n",
       "</table>\n",
       "</div>"
      ],
      "text/plain": [
       "                                         entityLabel     entityType  \\\n",
       "0                                   Maison de Balzac  taxonomy_term   \n",
       "1                                    Musée Bourdelle  taxonomy_term   \n",
       "2                Musée Carnavalet, Histoire de Paris  taxonomy_term   \n",
       "3  Musée Cernuschi, musée des Arts de l’Asie de l...  taxonomy_term   \n",
       "4               Musée Cognacq-Jay, le goût du XVIIIe  taxonomy_term   \n",
       "5  Palais Galliera, musée de la Mode de la Ville ...  taxonomy_term   \n",
       "6                       Musée d’Art moderne de Paris  taxonomy_term   \n",
       "7  Musée de la Libération de Paris - musée du Gén...  taxonomy_term   \n",
       "8           Maison de Victor Hugo - Hauteville House  taxonomy_term   \n",
       "9                         Musée de la Vie romantique  taxonomy_term   \n",
       "\n",
       "   fieldLrefAdlib fieldMuseeCode  \\\n",
       "0               1            BAL   \n",
       "1               2            BOU   \n",
       "2               3            CAR   \n",
       "3               4            CER   \n",
       "4               5            COG   \n",
       "5               9            GAL   \n",
       "6              10            MAM   \n",
       "7              11            LEC   \n",
       "8              12            MVH   \n",
       "9              13            MVR   \n",
       "\n",
       "                                      fieldMuseeLogo  \\\n",
       "0  {'url': 'https://parismuseescollections.paris....   \n",
       "1  {'url': 'https://parismuseescollections.paris....   \n",
       "2  {'url': 'https://parismuseescollections.paris....   \n",
       "3  {'url': 'https://parismuseescollections.paris....   \n",
       "4  {'url': 'https://parismuseescollections.paris....   \n",
       "5  {'url': 'https://parismuseescollections.paris....   \n",
       "6  {'url': 'https://parismuseescollections.paris....   \n",
       "7  {'url': 'https://parismuseescollections.paris....   \n",
       "8  {'url': 'https://parismuseescollections.paris....   \n",
       "9  {'url': 'https://parismuseescollections.paris....   \n",
       "\n",
       "         fieldMuseeTitreCourt  \\\n",
       "0            Maison de Balzac   \n",
       "1             Musée Bourdelle   \n",
       "2            Musée Carnavalet   \n",
       "3             Musée Cernuschi   \n",
       "4           Musée Cognacq-Jay   \n",
       "5             Palais Galliera   \n",
       "6         Musée d’Art moderne   \n",
       "7           Musée Jean Moulin   \n",
       "8       Maison de Victor Hugo   \n",
       "9  Musée de la Vie romantique   \n",
       "\n",
       "                                        fieldAdresse  \n",
       "0  {'countryCode': 'FR', 'locality': 'Paris', 'po...  \n",
       "1  {'countryCode': 'FR', 'locality': 'Paris', 'po...  \n",
       "2  {'countryCode': 'FR', 'locality': 'Paris', 'po...  \n",
       "3  {'countryCode': 'FR', 'locality': 'Paris', 'po...  \n",
       "4  {'countryCode': 'FR', 'locality': 'Paris', 'po...  \n",
       "5  {'countryCode': 'FR', 'locality': 'Paris', 'po...  \n",
       "6  {'countryCode': 'FR', 'locality': 'Paris', 'po...  \n",
       "7  {'countryCode': 'FR', 'locality': 'Paris', 'po...  \n",
       "8  {'countryCode': 'FR', 'locality': 'Paris', 'po...  \n",
       "9  {'countryCode': 'FR', 'locality': 'Paris', 'po...  "
      ]
     },
     "execution_count": 8,
     "metadata": {},
     "output_type": "execute_result"
    }
   ],
   "source": [
    "df_musees = pd.DataFrame(json_data_musees['data']['taxonomyTermQuery']['entities'])\n",
    "df_musees"
   ]
  },
  {
   "cell_type": "code",
   "execution_count": 9,
   "metadata": {
    "ExecuteTime": {
     "end_time": "2020-05-24T19:25:33.578971Z",
     "start_time": "2020-05-24T19:25:33.472956Z"
    }
   },
   "outputs": [
    {
     "data": {
      "text/plain": [
       "{'countryCode': 'FR',\n",
       " 'locality': 'Paris',\n",
       " 'postalCode': '75009',\n",
       " 'addressLine1': '16, rue Chaptal',\n",
       " 'addressLine2': ''}"
      ]
     },
     "execution_count": 9,
     "metadata": {},
     "output_type": "execute_result"
    }
   ],
   "source": [
    "df_musees['fieldAdresse'][9] #Accéder à la valeur de la colonne \"fieldAdresse\" qui a comme index 9 "
   ]
  },
  {
   "cell_type": "markdown",
   "metadata": {},
   "source": [
    "#### Récupérer toutes les oeuvre du musée : Cognacq-Jay, le goût du XVIIIe"
   ]
  },
  {
   "cell_type": "code",
   "execution_count": 23,
   "metadata": {
    "ExecuteTime": {
     "end_time": "2020-05-24T19:28:47.938636Z",
     "start_time": "2020-05-24T19:28:47.625916Z"
    }
   },
   "outputs": [
    {
     "data": {
      "text/plain": [
       "[{'title': 'Femme assise dans un parc avec un épagneul', 'nid': 185180},\n",
       " {'title': 'Vénus accoudée à une colonne', 'nid': 185196},\n",
       " {'title': 'Le Peintre et sa famille, devant une maison de campagne',\n",
       "  'nid': 185213},\n",
       " {'title': \"Portrait d'une jeune femme assise dans un parc\", 'nid': 185229},\n",
       " {'title': \"Portrait d'Emily et Laura-Anne Calmady\", 'nid': 185263}]"
      ]
     },
     "execution_count": 23,
     "metadata": {},
     "output_type": "execute_result"
    }
   ],
   "source": [
    "r = requests.post(url=url, headers=header, json={ 'query' : query_2 }) # consulter query_1 dans le fichier Queries.ipynb \n",
    "json_data_Cognacq = json.loads(r.text)\n",
    "\n",
    "json_data_Cognacq['data']['nodeQuery']['entities'][:5] #On limite les résultats en 5 pour ne pas afficher tous les titre du musée "
   ]
  },
  {
   "cell_type": "code",
   "execution_count": 11,
   "metadata": {
    "ExecuteTime": {
     "end_time": "2020-05-24T19:25:39.516440Z",
     "start_time": "2020-05-24T19:25:39.509459Z"
    }
   },
   "outputs": [
    {
     "data": {
      "text/plain": [
       "(500, 2)"
      ]
     },
     "execution_count": 11,
     "metadata": {},
     "output_type": "execute_result"
    }
   ],
   "source": [
    "df_Cognacq = pd.DataFrame(json_data_Cognacq['data']['nodeQuery']['entities'])\n",
    "df_Cognacq.shape"
   ]
  },
  {
   "cell_type": "code",
   "execution_count": 12,
   "metadata": {
    "ExecuteTime": {
     "end_time": "2020-05-24T19:25:39.769466Z",
     "start_time": "2020-05-24T19:25:39.519435Z"
    }
   },
   "outputs": [
    {
     "data": {
      "text/html": [
       "<div>\n",
       "<style scoped>\n",
       "    .dataframe tbody tr th:only-of-type {\n",
       "        vertical-align: middle;\n",
       "    }\n",
       "\n",
       "    .dataframe tbody tr th {\n",
       "        vertical-align: top;\n",
       "    }\n",
       "\n",
       "    .dataframe thead th {\n",
       "        text-align: right;\n",
       "    }\n",
       "</style>\n",
       "<table border=\"1\" class=\"dataframe\">\n",
       "  <thead>\n",
       "    <tr style=\"text-align: right;\">\n",
       "      <th></th>\n",
       "      <th>title</th>\n",
       "      <th>nid</th>\n",
       "    </tr>\n",
       "  </thead>\n",
       "  <tbody>\n",
       "    <tr>\n",
       "      <th>0</th>\n",
       "      <td>Femme assise dans un parc avec un épagneul</td>\n",
       "      <td>185180</td>\n",
       "    </tr>\n",
       "    <tr>\n",
       "      <th>1</th>\n",
       "      <td>Vénus accoudée à une colonne</td>\n",
       "      <td>185196</td>\n",
       "    </tr>\n",
       "    <tr>\n",
       "      <th>2</th>\n",
       "      <td>Le Peintre et sa famille, devant une maison de...</td>\n",
       "      <td>185213</td>\n",
       "    </tr>\n",
       "    <tr>\n",
       "      <th>3</th>\n",
       "      <td>Portrait d'une jeune femme assise dans un parc</td>\n",
       "      <td>185229</td>\n",
       "    </tr>\n",
       "    <tr>\n",
       "      <th>4</th>\n",
       "      <td>Portrait d'Emily et Laura-Anne Calmady</td>\n",
       "      <td>185263</td>\n",
       "    </tr>\n",
       "  </tbody>\n",
       "</table>\n",
       "</div>"
      ],
      "text/plain": [
       "                                               title     nid\n",
       "0         Femme assise dans un parc avec un épagneul  185180\n",
       "1                       Vénus accoudée à une colonne  185196\n",
       "2  Le Peintre et sa famille, devant une maison de...  185213\n",
       "3     Portrait d'une jeune femme assise dans un parc  185229\n",
       "4             Portrait d'Emily et Laura-Anne Calmady  185263"
      ]
     },
     "execution_count": 12,
     "metadata": {},
     "output_type": "execute_result"
    }
   ],
   "source": [
    "df_Cognacq.head()"
   ]
  },
  {
   "cell_type": "markdown",
   "metadata": {},
   "source": [
    "#### Filtrer la colonne \"title\" avec seulement les titres \"Portrait d'un homme\""
   ]
  },
  {
   "cell_type": "code",
   "execution_count": 13,
   "metadata": {
    "ExecuteTime": {
     "end_time": "2020-05-24T19:25:39.932592Z",
     "start_time": "2020-05-24T19:25:39.771462Z"
    }
   },
   "outputs": [
    {
     "data": {
      "text/html": [
       "<div>\n",
       "<style scoped>\n",
       "    .dataframe tbody tr th:only-of-type {\n",
       "        vertical-align: middle;\n",
       "    }\n",
       "\n",
       "    .dataframe tbody tr th {\n",
       "        vertical-align: top;\n",
       "    }\n",
       "\n",
       "    .dataframe thead th {\n",
       "        text-align: right;\n",
       "    }\n",
       "</style>\n",
       "<table border=\"1\" class=\"dataframe\">\n",
       "  <thead>\n",
       "    <tr style=\"text-align: right;\">\n",
       "      <th></th>\n",
       "      <th>title</th>\n",
       "      <th>nid</th>\n",
       "    </tr>\n",
       "  </thead>\n",
       "  <tbody>\n",
       "    <tr>\n",
       "      <th>37</th>\n",
       "      <td>Portrait d'un homme</td>\n",
       "      <td>186163</td>\n",
       "    </tr>\n",
       "    <tr>\n",
       "      <th>73</th>\n",
       "      <td>Portrait d'un homme</td>\n",
       "      <td>186164</td>\n",
       "    </tr>\n",
       "    <tr>\n",
       "      <th>111</th>\n",
       "      <td>Portrait d'un homme</td>\n",
       "      <td>186181</td>\n",
       "    </tr>\n",
       "    <tr>\n",
       "      <th>112</th>\n",
       "      <td>Portrait d'un homme</td>\n",
       "      <td>186197</td>\n",
       "    </tr>\n",
       "    <tr>\n",
       "      <th>151</th>\n",
       "      <td>Portrait d'un homme</td>\n",
       "      <td>186214</td>\n",
       "    </tr>\n",
       "    <tr>\n",
       "      <th>186</th>\n",
       "      <td>Portrait d'un homme</td>\n",
       "      <td>186199</td>\n",
       "    </tr>\n",
       "    <tr>\n",
       "      <th>231</th>\n",
       "      <td>Portrait d'un homme</td>\n",
       "      <td>186200</td>\n",
       "    </tr>\n",
       "    <tr>\n",
       "      <th>271</th>\n",
       "      <td>Portrait d'un homme</td>\n",
       "      <td>186169</td>\n",
       "    </tr>\n",
       "    <tr>\n",
       "      <th>273</th>\n",
       "      <td>Portrait d'un homme</td>\n",
       "      <td>186201</td>\n",
       "    </tr>\n",
       "    <tr>\n",
       "      <th>321</th>\n",
       "      <td>Portrait d'un homme</td>\n",
       "      <td>186202</td>\n",
       "    </tr>\n",
       "    <tr>\n",
       "      <th>364</th>\n",
       "      <td>Portrait d'un homme</td>\n",
       "      <td>186187</td>\n",
       "    </tr>\n",
       "    <tr>\n",
       "      <th>408</th>\n",
       "      <td>Portrait d'un homme</td>\n",
       "      <td>186204</td>\n",
       "    </tr>\n",
       "    <tr>\n",
       "      <th>451</th>\n",
       "      <td>Portrait d'un homme</td>\n",
       "      <td>186189</td>\n",
       "    </tr>\n",
       "    <tr>\n",
       "      <th>452</th>\n",
       "      <td>Portrait d'un homme</td>\n",
       "      <td>186205</td>\n",
       "    </tr>\n",
       "    <tr>\n",
       "      <th>490</th>\n",
       "      <td>Portrait d'un homme</td>\n",
       "      <td>186158</td>\n",
       "    </tr>\n",
       "    <tr>\n",
       "      <th>493</th>\n",
       "      <td>Portrait d'un homme</td>\n",
       "      <td>186206</td>\n",
       "    </tr>\n",
       "  </tbody>\n",
       "</table>\n",
       "</div>"
      ],
      "text/plain": [
       "                   title     nid\n",
       "37   Portrait d'un homme  186163\n",
       "73   Portrait d'un homme  186164\n",
       "111  Portrait d'un homme  186181\n",
       "112  Portrait d'un homme  186197\n",
       "151  Portrait d'un homme  186214\n",
       "186  Portrait d'un homme  186199\n",
       "231  Portrait d'un homme  186200\n",
       "271  Portrait d'un homme  186169\n",
       "273  Portrait d'un homme  186201\n",
       "321  Portrait d'un homme  186202\n",
       "364  Portrait d'un homme  186187\n",
       "408  Portrait d'un homme  186204\n",
       "451  Portrait d'un homme  186189\n",
       "452  Portrait d'un homme  186205\n",
       "490  Portrait d'un homme  186158\n",
       "493  Portrait d'un homme  186206"
      ]
     },
     "execution_count": 13,
     "metadata": {},
     "output_type": "execute_result"
    }
   ],
   "source": [
    "df_Cognacq.loc[df_Cognacq['title'] == \"Portrait d'un homme\"]  #df_Cognacq['title']  permet d'accéder à la colonne \"title\" dans la Dataframe (tableau) appelée df_Cognacq"
   ]
  },
  {
   "cell_type": "code",
   "execution_count": 14,
   "metadata": {
    "ExecuteTime": {
     "end_time": "2020-05-24T19:25:41.430630Z",
     "start_time": "2020-05-24T19:25:39.935584Z"
    }
   },
   "outputs": [],
   "source": [
    "query = get_artwork.replace('id_artwork','186206')\n",
    "r = requests.post(url=url, headers=header, json={ 'query' : query })\n",
    "json_data_random_id = json.loads(r.text)"
   ]
  },
  {
   "cell_type": "code",
   "execution_count": 15,
   "metadata": {
    "ExecuteTime": {
     "end_time": "2020-05-24T19:25:41.437393Z",
     "start_time": "2020-05-24T19:25:41.432437Z"
    }
   },
   "outputs": [
    {
     "data": {
      "text/plain": [
       "'Musée Cognacq-Jay, le goût du XVIIIe'"
      ]
     },
     "execution_count": 15,
     "metadata": {},
     "output_type": "execute_result"
    }
   ],
   "source": [
    "json_data_random_id['data']['nodeById']['fieldMusee']['entity']['name'] #On choisit un ID aléatoire "
   ]
  },
  {
   "cell_type": "code",
   "execution_count": 16,
   "metadata": {
    "ExecuteTime": {
     "end_time": "2020-05-24T19:25:41.587607Z",
     "start_time": "2020-05-24T19:25:41.439387Z"
    }
   },
   "outputs": [
    {
     "data": {
      "text/plain": [
       "'18e siècle'"
      ]
     },
     "execution_count": 16,
     "metadata": {},
     "output_type": "execute_result"
    }
   ],
   "source": [
    "json_data_random_id['data']['nodeById']['fieldDateProduction']['century']"
   ]
  },
  {
   "cell_type": "code",
   "execution_count": 17,
   "metadata": {
    "ExecuteTime": {
     "end_time": "2020-05-24T19:25:41.873012Z",
     "start_time": "2020-05-24T19:25:41.588572Z"
    }
   },
   "outputs": [
    {
     "data": {
      "text/plain": [
       "dict_keys(['title', 'absolutePath', 'fieldUrlAlias', 'fieldTitreDeMediation', 'fieldSousTitreDeMediation', 'fieldOeuvreAuteurs', 'fieldVisuelsPrincipals', 'fieldDateProduction', 'fieldOeuvreSiecle', 'fieldOeuvreTypesObjet', 'fieldDenominations', 'fieldMateriauxTechnique', 'fieldOeuvreDimensions', 'fieldOeuvreInscriptions', 'fieldOeuvreDescriptionIcono', 'fieldCommentaireHistorique', 'fieldOeuvreThemeRepresente', 'fieldLieuxConcernes', 'fieldModaliteAcquisition', 'fieldDonateurs', 'fieldDateAcquisition', 'fieldOeuvreNumInventaire', 'fieldOeuvreStyleMouvement', 'fieldMusee', 'fieldOeuvreExpose', 'fieldOeuvreAudios', 'fieldOeuvreVideos', 'fieldHdVisuel'])"
      ]
     },
     "execution_count": 17,
     "metadata": {},
     "output_type": "execute_result"
    }
   ],
   "source": [
    "json_data_random_id['data']['nodeById'].keys() # tous les champs relatifs à une oeuvre "
   ]
  },
  {
   "cell_type": "code",
   "execution_count": 18,
   "metadata": {
    "ExecuteTime": {
     "end_time": "2020-05-24T19:25:42.103421Z",
     "start_time": "2020-05-24T19:25:41.875008Z"
    }
   },
   "outputs": [],
   "source": [
    "df_musees.to_csv('C://Users//Oussa//Desktop//PFE//musees.csv',index=False, encoding='utf-8') "
   ]
  },
  {
   "cell_type": "markdown",
   "metadata": {},
   "source": [
    "### Le fichier CSV sur Excel "
   ]
  },
  {
   "cell_type": "markdown",
   "metadata": {
    "ExecuteTime": {
     "end_time": "2020-05-22T10:53:31.067525Z",
     "start_time": "2020-05-22T10:53:31.046582Z"
    }
   },
   "source": [
    "\n",
    "<img align='left' src=\"musees.PNG\">"
   ]
  }
 ],
 "metadata": {
  "kernelspec": {
   "display_name": "Python 3",
   "language": "python",
   "name": "python3"
  },
  "language_info": {
   "codemirror_mode": {
    "name": "ipython",
    "version": 3
   },
   "file_extension": ".py",
   "mimetype": "text/x-python",
   "name": "python",
   "nbconvert_exporter": "python",
   "pygments_lexer": "ipython3",
   "version": "3.7.0"
  },
  "toc": {
   "base_numbering": 1,
   "nav_menu": {},
   "number_sections": false,
   "sideBar": false,
   "skip_h1_title": false,
   "title_cell": "Table of Contents",
   "title_sidebar": "Contents",
   "toc_cell": false,
   "toc_position": {
    "height": "805.5px",
    "left": "1639.24px",
    "top": "85.4297px",
    "width": "409.758px"
   },
   "toc_section_display": true,
   "toc_window_display": false
  }
 },
 "nbformat": 4,
 "nbformat_minor": 4
}
